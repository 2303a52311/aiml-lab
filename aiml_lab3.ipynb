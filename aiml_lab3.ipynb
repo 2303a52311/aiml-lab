{
  "cells": [
    {
      "cell_type": "markdown",
      "metadata": {
        "id": "view-in-github",
        "colab_type": "text"
      },
      "source": [
        "<a href=\"https://colab.research.google.com/github/2303a52311/aiml-lab/blob/main/aiml_lab3.ipynb\" target=\"_parent\"><img src=\"https://colab.research.google.com/assets/colab-badge.svg\" alt=\"Open In Colab\"/></a>"
      ]
    },
    {
      "cell_type": "code",
      "source": [
        "graph={\n",
        "    'A':['D','C','G'],\n",
        "    'B':['A'],\n",
        "    'C':['A','D','F'],\n",
        "    'D':['A','C','E','H'],\n",
        "    'E':['D','H','F'],\n",
        "    'F':['C','E'],\n",
        "    'G':['A','D','H'],\n",
        "    'H':['D','E','G']\n",
        "}\n",
        "def dfs(graph,node,visited):\n",
        "  if node not in visited:\n",
        "    visited.append(node)\n",
        "    for k in graph[node]:\n",
        "      dfs(graph,k,visited)\n",
        "  return visited\n",
        "visited=dfs(graph,'B',[])\n",
        "print(visited)\n"
      ],
      "metadata": {
        "id": "LQPIrYh7A6JI",
        "outputId": "135a0f4c-213c-4ba7-b866-bf4e40ea8123",
        "colab": {
          "base_uri": "https://localhost:8080/"
        }
      },
      "execution_count": null,
      "outputs": [
        {
          "output_type": "stream",
          "name": "stdout",
          "text": [
            "['B', 'A', 'D', 'C', 'F', 'E', 'H', 'G']\n"
          ]
        }
      ]
    }
  ],
  "metadata": {
    "colab": {
      "provenance": [],
      "include_colab_link": true
    },
    "kernelspec": {
      "display_name": "Python 3",
      "name": "python3"
    }
  },
  "nbformat": 4,
  "nbformat_minor": 0
}